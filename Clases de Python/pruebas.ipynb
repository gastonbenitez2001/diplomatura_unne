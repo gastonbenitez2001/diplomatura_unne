{
 "cells": [
  {
   "cell_type": "code",
   "execution_count": 1,
   "metadata": {},
   "outputs": [],
   "source": [
    "import numpy as np"
   ]
  },
  {
   "cell_type": "markdown",
   "metadata": {},
   "source": [
    "Acceso a datos de matriz de dos dimensiones"
   ]
  },
  {
   "cell_type": "code",
   "execution_count": 71,
   "metadata": {},
   "outputs": [
    {
     "name": "stdout",
     "output_type": "stream",
     "text": [
      "tamaño: (5, 5)\n",
      "cantidad de dimensiones: 2\n",
      "lingitud total: 25\n",
      "tipo de dato: float64\n",
      "-----------------------------------\n",
      "[0. 0. 0. 0. 0.]\n",
      "-----------------------------------\n",
      "[[0. 0.]\n",
      " [0. 0.]\n",
      " [0. 0.]]\n"
     ]
    }
   ],
   "source": [
    "#Matriz de n filas y m columnas\n",
    "mtx = np.zeros([5,5],dtype=float)\n",
    "\n",
    "print(\"tamaño:\",mtx.shape)\n",
    "print(\"cantidad de dimensiones:\",mtx.ndim)\n",
    "print(\"lingitud total:\",mtx.size)\n",
    "print(\"tipo de dato:\",mtx.dtype)\n",
    "#print(mtx)\n",
    "print(\"-----------------------------------\")\n",
    "print(mtx[0])\n",
    "print(\"-----------------------------------\")\n",
    "print(mtx[0:3,0:2]) # [Filas , columns]"
   ]
  },
  {
   "cell_type": "markdown",
   "metadata": {},
   "source": [
    "Creando y manipulando una matriz de 3 dimensiones"
   ]
  },
  {
   "cell_type": "code",
   "execution_count": 102,
   "metadata": {},
   "outputs": [
    {
     "name": "stdout",
     "output_type": "stream",
     "text": [
      "tamaño: (2, 3, 3)\n",
      "nro de orden (define el nD tensor): 3\n",
      "lingitud total: 18\n",
      "tipo de dato: float64\n",
      "-----------------------------------\n",
      "[[0. 0. 0.]\n",
      " [0. 0. 0.]\n",
      " [0. 0. 0.]]\n",
      "-----------------------------------\n",
      "[[0. 0. 0.]\n",
      " [0. 0. 0.]]\n",
      "-----------------------------------\n",
      "[[0. 0. 0.]\n",
      " [0. 0. 0.]]\n",
      "-----------------------------------\n",
      "[[0. 0. 0.]\n",
      " [0. 0. 0.]]\n"
     ]
    }
   ],
   "source": [
    "#Matriz de:\n",
    "#d dimensiones\n",
    "#n filas\n",
    "#m columnas\n",
    "\n",
    "mtx = np.zeros([2,3,3],dtype=float)\n",
    "\n",
    "print(\"tamaño:\",mtx.shape)\n",
    "print(\"nro de orden (define el nD tensor):\",mtx.ndim)\n",
    "print(\"lingitud total:\",mtx.size)\n",
    "print(\"tipo de dato:\",mtx.dtype)\n",
    "#print(mtx)\n",
    "print(\"-----------------------------------\")\n",
    "print(mtx[0]) #-->Accedemos a la primera dimension\n",
    "print(\"-----------------------------------\")\n",
    "print(mtx[0,0:2]) #--> Dim. 1 , filas de 0 a 2.\n",
    "print(\"-----------------------------------\")\n",
    "print(mtx[:,0,...]) #--> Todas las Dim. elemento 0, todas las columnas\n",
    "print(\"-----------------------------------\")\n",
    "print(mtx[...,0]) #--> Todas las Dim. elemento 0"
   ]
  }
 ],
 "metadata": {
  "kernelspec": {
   "display_name": "env",
   "language": "python",
   "name": "python3"
  },
  "language_info": {
   "codemirror_mode": {
    "name": "ipython",
    "version": 3
   },
   "file_extension": ".py",
   "mimetype": "text/x-python",
   "name": "python",
   "nbconvert_exporter": "python",
   "pygments_lexer": "ipython3",
   "version": "3.12.3"
  }
 },
 "nbformat": 4,
 "nbformat_minor": 2
}
