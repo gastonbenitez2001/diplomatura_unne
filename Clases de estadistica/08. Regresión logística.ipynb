{
 "cells": [
  {
   "cell_type": "code",
   "execution_count": 52,
   "metadata": {},
   "outputs": [],
   "source": [
    "import pandas as pd\n",
    "import numpy as np\n",
    "import matplotlib.pyplot as plt          # Para gráficos\n",
    "import seaborn as sns                    # Para gráficos\n",
    "import scipy.stats as stats              # Para calcular funciones de densidad\n",
    "import statsmodels.api as sm             # Para modelos\n",
    "import statsmodels.formula.api as smf    # Para regresión logística\n",
    "from scipy.stats import chi2_contingency # Test de independencia\n",
    "from imblearn.over_sampling import SMOTE # Remuestreo\n",
    "from sklearn import metrics              # Matriz de confusión y otras medidas de clasif\n",
    "from sklearn.model_selection import train_test_split # Dividir datos en entrenamiento y test\n",
    "import os"
   ]
  },
  {
   "cell_type": "markdown",
   "metadata": {},
   "source": [
    "# Modelos de respuesta binaria"
   ]
  },
  {
   "cell_type": "markdown",
   "metadata": {},
   "source": [
    "Cuando la variable que queremos explicar (o predecir) es binaria, es decir asume valores 0 y 1, modelamos la probabilidad de ocurrencia del suceso que mide esta variable. Este problema podemos abordarlo:\n",
    "\n",
    "1. Como en las prácticas vistas anteriormente, mediante el ajuste de un **modelo de regresión lineal** por Mínimos Cuadrados Ordinarios con statsmodels.OLS() pero en este caso con una variable de respuesta binaria. Este modelo tiene ciertas ventajas y desventajas. Es simple de interpretar y comunicar resultados porque los coeficientes $\\beta$ ajustados son directamente interpretables, pero puede predecir probabilidades mayores a 1 o menores a 0 en los extremos y estima efectos marginales constantes lo cual puede no ser útil siempre. Son conocidos como Modelos Lineales de Probabilidad (MLP).\n",
    "\n",
    "2. Con **modelos de regresión logísticos**, que admiten distribuciones asociadas a las variables binarias distintas a la normal y son ajustados por Máxima Verosimilitud."
   ]
  },
  {
   "cell_type": "markdown",
   "metadata": {},
   "source": [
    "# Regresión logística"
   ]
  },
  {
   "cell_type": "markdown",
   "metadata": {},
   "source": [
    "La regresión logística estima la probabilidad de que ocurra un evento condicionado a un conjunto de variables independientes. Asume que la variable binaria a modelar proviene de una distribución Binomial (Bernoulli). Este modelo forma parte de la familia de los Modelos Lineales Generalizados (MLG) que extienden al Modelo Lineal Clásico visto en las prácticas anteriores admitiendo distribuciones diferentes a la normal y modelando *funciones* de los parámetros que nos interesan.\n",
    "\n",
    "En logísticos, nos interesa modelar la probabilidad de ocurrencia de un evento (parámetro $p$ de una Bernoulli) condicionado a variables explicativas. Para ello, el modelo tranforma la probabilidad mediante la función de enlace logit con el objetivo de poder estimar una función lineal (o predictor lineal $\\eta$).\n",
    "\n",
    "1. $Y \\sim B(1,p)$\n",
    "\n",
    "2. $z=\\beta_0+\\beta_1x_1+\\beta_2x_2...=x\\beta$\n",
    "\n",
    "3. $g(p)=logit(p)=logit(P(Y=1/x\\beta))=z$\n",
    "\n",
    "La función logit nos permite utilizar la función de distribución de acumulada de una variable aleatoria con distribución logística. Por lo tanto, para estimar las probabilidades predichas el modelo utiliza la función de densidad acumulada (fda) y para estimar efectos marginales la función de densidad de probabilidad (fdp).\n",
    "\n",
    "FDA: $F(x)=\\frac{exp(z)}{1+\\exp(z)}$\n",
    "\n",
    "FDP: $f(x)=\\frac{exp(z)}{[1+exp(z)]^2}$"
   ]
  },
  {
   "cell_type": "code",
   "execution_count": 53,
   "metadata": {},
   "outputs": [
    {
     "data": {
      "text/html": [
       "<div>\n",
       "<style scoped>\n",
       "    .dataframe tbody tr th:only-of-type {\n",
       "        vertical-align: middle;\n",
       "    }\n",
       "\n",
       "    .dataframe tbody tr th {\n",
       "        vertical-align: top;\n",
       "    }\n",
       "\n",
       "    .dataframe thead th {\n",
       "        text-align: right;\n",
       "    }\n",
       "</style>\n",
       "<table border=\"1\" class=\"dataframe\">\n",
       "  <thead>\n",
       "    <tr style=\"text-align: right;\">\n",
       "      <th></th>\n",
       "      <th>ID</th>\n",
       "      <th>EDAD</th>\n",
       "      <th>SEXO</th>\n",
       "      <th>PESO</th>\n",
       "      <th>TALLA</th>\n",
       "      <th>DM</th>\n",
       "      <th>SEDENT</th>\n",
       "      <th>TAS</th>\n",
       "      <th>TAD</th>\n",
       "      <th>HTA_OMS</th>\n",
       "      <th>ECV_B</th>\n",
       "      <th>TABACO</th>\n",
       "      <th>ALCOHOL</th>\n",
       "      <th>STATIN</th>\n",
       "      <th>CINTURA</th>\n",
       "      <th>CADERA</th>\n",
       "      <th>OBCENT_ATP</th>\n",
       "      <th>COLEST</th>\n",
       "    </tr>\n",
       "  </thead>\n",
       "  <tbody>\n",
       "    <tr>\n",
       "      <th>0</th>\n",
       "      <td>11</td>\n",
       "      <td>44</td>\n",
       "      <td>1</td>\n",
       "      <td>63.9</td>\n",
       "      <td>163.0</td>\n",
       "      <td>0</td>\n",
       "      <td>0</td>\n",
       "      <td>115.000</td>\n",
       "      <td>85</td>\n",
       "      <td>0</td>\n",
       "      <td>0</td>\n",
       "      <td>0</td>\n",
       "      <td>0</td>\n",
       "      <td>1</td>\n",
       "      <td>95.0</td>\n",
       "      <td>96</td>\n",
       "      <td>0</td>\n",
       "      <td>213</td>\n",
       "    </tr>\n",
       "    <tr>\n",
       "      <th>1</th>\n",
       "      <td>23</td>\n",
       "      <td>37</td>\n",
       "      <td>0</td>\n",
       "      <td>63.2</td>\n",
       "      <td>157.5</td>\n",
       "      <td>0</td>\n",
       "      <td>1</td>\n",
       "      <td>130.065</td>\n",
       "      <td>80</td>\n",
       "      <td>0</td>\n",
       "      <td>0</td>\n",
       "      <td>0</td>\n",
       "      <td>0</td>\n",
       "      <td>0</td>\n",
       "      <td>90.0</td>\n",
       "      <td>96</td>\n",
       "      <td>1</td>\n",
       "      <td>216</td>\n",
       "    </tr>\n",
       "    <tr>\n",
       "      <th>2</th>\n",
       "      <td>38</td>\n",
       "      <td>67</td>\n",
       "      <td>1</td>\n",
       "      <td>70.2</td>\n",
       "      <td>145.0</td>\n",
       "      <td>1</td>\n",
       "      <td>1</td>\n",
       "      <td>190.000</td>\n",
       "      <td>95</td>\n",
       "      <td>1</td>\n",
       "      <td>0</td>\n",
       "      <td>0</td>\n",
       "      <td>0</td>\n",
       "      <td>0</td>\n",
       "      <td>106.5</td>\n",
       "      <td>110</td>\n",
       "      <td>1</td>\n",
       "      <td>231</td>\n",
       "    </tr>\n",
       "    <tr>\n",
       "      <th>3</th>\n",
       "      <td>50</td>\n",
       "      <td>78</td>\n",
       "      <td>0</td>\n",
       "      <td>88.9</td>\n",
       "      <td>157.0</td>\n",
       "      <td>0</td>\n",
       "      <td>1</td>\n",
       "      <td>140.000</td>\n",
       "      <td>80</td>\n",
       "      <td>1</td>\n",
       "      <td>1</td>\n",
       "      <td>0</td>\n",
       "      <td>0</td>\n",
       "      <td>0</td>\n",
       "      <td>126.0</td>\n",
       "      <td>132</td>\n",
       "      <td>1</td>\n",
       "      <td>268</td>\n",
       "    </tr>\n",
       "    <tr>\n",
       "      <th>4</th>\n",
       "      <td>65</td>\n",
       "      <td>33</td>\n",
       "      <td>1</td>\n",
       "      <td>81.8</td>\n",
       "      <td>175.0</td>\n",
       "      <td>0</td>\n",
       "      <td>0</td>\n",
       "      <td>120.000</td>\n",
       "      <td>80</td>\n",
       "      <td>0</td>\n",
       "      <td>0</td>\n",
       "      <td>1</td>\n",
       "      <td>1</td>\n",
       "      <td>0</td>\n",
       "      <td>86.0</td>\n",
       "      <td>89</td>\n",
       "      <td>0</td>\n",
       "      <td>217</td>\n",
       "    </tr>\n",
       "    <tr>\n",
       "      <th>...</th>\n",
       "      <td>...</td>\n",
       "      <td>...</td>\n",
       "      <td>...</td>\n",
       "      <td>...</td>\n",
       "      <td>...</td>\n",
       "      <td>...</td>\n",
       "      <td>...</td>\n",
       "      <td>...</td>\n",
       "      <td>...</td>\n",
       "      <td>...</td>\n",
       "      <td>...</td>\n",
       "      <td>...</td>\n",
       "      <td>...</td>\n",
       "      <td>...</td>\n",
       "      <td>...</td>\n",
       "      <td>...</td>\n",
       "      <td>...</td>\n",
       "      <td>...</td>\n",
       "    </tr>\n",
       "    <tr>\n",
       "      <th>75</th>\n",
       "      <td>1305</td>\n",
       "      <td>46</td>\n",
       "      <td>0</td>\n",
       "      <td>76.0</td>\n",
       "      <td>168.0</td>\n",
       "      <td>0</td>\n",
       "      <td>1</td>\n",
       "      <td>120.000</td>\n",
       "      <td>80</td>\n",
       "      <td>0</td>\n",
       "      <td>0</td>\n",
       "      <td>1</td>\n",
       "      <td>0</td>\n",
       "      <td>0</td>\n",
       "      <td>93.0</td>\n",
       "      <td>107</td>\n",
       "      <td>1</td>\n",
       "      <td>182</td>\n",
       "    </tr>\n",
       "    <tr>\n",
       "      <th>76</th>\n",
       "      <td>1337</td>\n",
       "      <td>41</td>\n",
       "      <td>0</td>\n",
       "      <td>62.0</td>\n",
       "      <td>159.0</td>\n",
       "      <td>0</td>\n",
       "      <td>1</td>\n",
       "      <td>110.000</td>\n",
       "      <td>80</td>\n",
       "      <td>0</td>\n",
       "      <td>0</td>\n",
       "      <td>0</td>\n",
       "      <td>1</td>\n",
       "      <td>0</td>\n",
       "      <td>82.0</td>\n",
       "      <td>99</td>\n",
       "      <td>0</td>\n",
       "      <td>174</td>\n",
       "    </tr>\n",
       "    <tr>\n",
       "      <th>77</th>\n",
       "      <td>1344</td>\n",
       "      <td>40</td>\n",
       "      <td>1</td>\n",
       "      <td>80.0</td>\n",
       "      <td>175.0</td>\n",
       "      <td>0</td>\n",
       "      <td>1</td>\n",
       "      <td>110.000</td>\n",
       "      <td>80</td>\n",
       "      <td>0</td>\n",
       "      <td>0</td>\n",
       "      <td>0</td>\n",
       "      <td>1</td>\n",
       "      <td>0</td>\n",
       "      <td>95.0</td>\n",
       "      <td>104</td>\n",
       "      <td>0</td>\n",
       "      <td>207</td>\n",
       "    </tr>\n",
       "    <tr>\n",
       "      <th>78</th>\n",
       "      <td>1373</td>\n",
       "      <td>42</td>\n",
       "      <td>0</td>\n",
       "      <td>60.9</td>\n",
       "      <td>166.0</td>\n",
       "      <td>0</td>\n",
       "      <td>0</td>\n",
       "      <td>130.000</td>\n",
       "      <td>80</td>\n",
       "      <td>0</td>\n",
       "      <td>0</td>\n",
       "      <td>1</td>\n",
       "      <td>0</td>\n",
       "      <td>0</td>\n",
       "      <td>80.0</td>\n",
       "      <td>94</td>\n",
       "      <td>0</td>\n",
       "      <td>256</td>\n",
       "    </tr>\n",
       "    <tr>\n",
       "      <th>79</th>\n",
       "      <td>1381</td>\n",
       "      <td>57</td>\n",
       "      <td>0</td>\n",
       "      <td>57.7</td>\n",
       "      <td>142.0</td>\n",
       "      <td>0</td>\n",
       "      <td>0</td>\n",
       "      <td>130.000</td>\n",
       "      <td>70</td>\n",
       "      <td>0</td>\n",
       "      <td>0</td>\n",
       "      <td>0</td>\n",
       "      <td>0</td>\n",
       "      <td>0</td>\n",
       "      <td>101.0</td>\n",
       "      <td>109</td>\n",
       "      <td>1</td>\n",
       "      <td>252</td>\n",
       "    </tr>\n",
       "  </tbody>\n",
       "</table>\n",
       "<p>80 rows × 18 columns</p>\n",
       "</div>"
      ],
      "text/plain": [
       "      ID  EDAD  SEXO  PESO  TALLA  DM  SEDENT      TAS  TAD  HTA_OMS  ECV_B  \\\n",
       "0     11    44     1  63.9  163.0   0       0  115.000   85        0      0   \n",
       "1     23    37     0  63.2  157.5   0       1  130.065   80        0      0   \n",
       "2     38    67     1  70.2  145.0   1       1  190.000   95        1      0   \n",
       "3     50    78     0  88.9  157.0   0       1  140.000   80        1      1   \n",
       "4     65    33     1  81.8  175.0   0       0  120.000   80        0      0   \n",
       "..   ...   ...   ...   ...    ...  ..     ...      ...  ...      ...    ...   \n",
       "75  1305    46     0  76.0  168.0   0       1  120.000   80        0      0   \n",
       "76  1337    41     0  62.0  159.0   0       1  110.000   80        0      0   \n",
       "77  1344    40     1  80.0  175.0   0       1  110.000   80        0      0   \n",
       "78  1373    42     0  60.9  166.0   0       0  130.000   80        0      0   \n",
       "79  1381    57     0  57.7  142.0   0       0  130.000   70        0      0   \n",
       "\n",
       "    TABACO  ALCOHOL  STATIN  CINTURA  CADERA  OBCENT_ATP  COLEST  \n",
       "0        0        0       1     95.0      96           0     213  \n",
       "1        0        0       0     90.0      96           1     216  \n",
       "2        0        0       0    106.5     110           1     231  \n",
       "3        0        0       0    126.0     132           1     268  \n",
       "4        1        1       0     86.0      89           0     217  \n",
       "..     ...      ...     ...      ...     ...         ...     ...  \n",
       "75       1        0       0     93.0     107           1     182  \n",
       "76       0        1       0     82.0      99           0     174  \n",
       "77       0        1       0     95.0     104           0     207  \n",
       "78       1        0       0     80.0      94           0     256  \n",
       "79       0        0       0    101.0     109           1     252  \n",
       "\n",
       "[80 rows x 18 columns]"
      ]
     },
     "execution_count": 53,
     "metadata": {},
     "output_type": "execute_result"
    }
   ],
   "source": [
    "#  ==== OBTENCION DE DATOS\n",
    "\n",
    "# Obtén la ruta absoluta del arhivo actual\n",
    "current_dir = os.getcwd() \n",
    "\n",
    "path_datasets = os.path.join(current_dir,\"datasets\")\n",
    "\n",
    "\n",
    "path_diabetes = os.path.join(path_datasets,\"Diabetes.xlsx\") \n",
    "\n",
    "datos = pd.read_excel(path_diabetes)\n",
    "datos"
   ]
  },
  {
   "cell_type": "markdown",
   "metadata": {},
   "source": [
    "**Descripción de variables**\n",
    "\n",
    "* EDAD: edad, expresada en años.\n",
    "* SEXO: sexo, codificado con 0 para Hombres y 1 para Mujeres.\n",
    "* PESO: peso, expresado en kilogramos.\n",
    "* TALLA: talla, expresada en cm.\n",
    "* DM: Indicadora de presencia de Diabetes Mellitus.\n",
    "* SEDENT: indicadora de ser o no sedentario.\n",
    "* TAS: Presión arterial sistólica, en mmHg.\n",
    "* TAD: Presión arterial diastólica, en mmHg.\n",
    "* HTA_OMS: Indicadora de padecer hipertensión arterial, según lo definido por la OMS.\n",
    "* ECV_B: indicadora de padecer enfermedades cardiovasculares.\n",
    "* TABACO: indicadora de ser fumador.\n",
    "* ALCOHOL: indicadora de beber alcohol regularmente.\n",
    "* STATIN: indicadora de consumo de Estanina (medicamento indicado para bajar\n",
    "colesterol y triglicéridos)\n",
    "* CINTURA: perímetro, expresado en cm.\n",
    "* CADERA: perímetro, expresado en cm.\n",
    "* OBCENT_ATP: indicadora de obesidad central.\n",
    "* COLESTEROL: colesterol total, en md/dL.\n"
   ]
  },
  {
   "cell_type": "markdown",
   "metadata": {},
   "source": [
    "## Análisis descriptivo"
   ]
  },
  {
   "cell_type": "markdown",
   "metadata": {},
   "source": [
    "La variable que queremos modelar es la presencia de diabetes medida con la variable binaria 'DM'. Si vemos el conteo de casos en la muestra, además de contar con un número de observaciones un poco reducido, tenemos sólo 8 casos positivos con diabetes. Lo cual representa el 10% de las observaciones."
   ]
  },
  {
   "cell_type": "code",
   "execution_count": 54,
   "metadata": {},
   "outputs": [
    {
     "data": {
      "text/plain": [
       "DM\n",
       "0    72\n",
       "1     8\n",
       "Name: count, dtype: int64"
      ]
     },
     "execution_count": 54,
     "metadata": {},
     "output_type": "execute_result"
    }
   ],
   "source": [
    "datos['DM'].value_counts()"
   ]
  },
  {
   "cell_type": "code",
   "execution_count": 55,
   "metadata": {},
   "outputs": [
    {
     "data": {
      "text/plain": [
       "DM\n",
       "0    0.9\n",
       "1    0.1\n",
       "Name: proportion, dtype: float64"
      ]
     },
     "execution_count": 55,
     "metadata": {},
     "output_type": "execute_result"
    }
   ],
   "source": [
    "datos['DM'].value_counts(normalize=True) #--> Muestra la densidad"
   ]
  },
  {
   "cell_type": "markdown",
   "metadata": {},
   "source": [
    "**Presencia de Diabetes Mellitus (DM) según variables numéricas**"
   ]
  },
  {
   "cell_type": "markdown",
   "metadata": {},
   "source": [
    "Estudiar de esa forma facilita ver como la presencia de cierta caracteristica afecta a una variable"
   ]
  },
  {
   "cell_type": "code",
   "execution_count": 56,
   "metadata": {},
   "outputs": [
    {
     "data": {
      "image/png": "[encoded data removed]",
      "text/plain": [
       "<Figure size 1500x800 with 6 Axes>"
      ]
     },
     "metadata": {},
     "output_type": "display_data"
    }
   ],
   "source": [
    "fig, ax = plt.subplots(2, 3, figsize=(15, 8))\n",
    "\n",
    "# Presión arterial sistólica según presencia o no de DM\n",
    "datos.boxplot(column='TAS', by = 'DM', ax=ax[0,0])\n",
    "ax[0,0].set_title(\"Presión arterial sistólica según DM\")\n",
    "\n",
    "# Presión arterial diastólica según presencia o no de DM\n",
    "datos.boxplot(column='TAD', by = 'DM', ax=ax[0,1])\n",
    "ax[0,1].set_title(\"Presión arterial diastólica según DM\")\n",
    "\n",
    "# Edad según presencia o no de DM\n",
    "datos.boxplot(column='EDAD', by = 'DM', ax=ax[0,2])\n",
    "ax[0,2].set_title(\"Edad según DM\")\n",
    "\n",
    "# Colesterol según presencia o no de DM\n",
    "datos.boxplot(column='COLEST', by = 'DM', ax=ax[1,0])\n",
    "ax[1,0].set_title(\"Colesterol según DM\")\n",
    "\n",
    "# Peso según presencia o no de DM\n",
    "datos.boxplot(column='PESO', by = 'DM', ax=ax[1,1])\n",
    "ax[1,1].set_title(\"Peso según DM\")\n",
    "\n",
    "# Talla según presencia o no de DM\n",
    "datos.boxplot(column='TALLA', by = 'DM', ax=ax[1,2])\n",
    "ax[1,2].set_title(\"Talla según DM\")\n",
    "\n",
    "fig.suptitle('')\n",
    "plt.subplots_adjust(hspace=0.3)\n",
    "plt.show()"
   ]
  },
  {
   "cell_type": "markdown",
   "metadata": {},
   "source": [
    "**Presencia de Diabetes Mellitus (DM) según variables categóricas**"
   ]
  },
  {
   "cell_type": "code",
   "execution_count": 57,
   "metadata": {},
   "outputs": [
    {
     "data": {
      "text/html": [
       "<div>\n",
       "<style scoped>\n",
       "    .dataframe tbody tr th:only-of-type {\n",
       "        vertical-align: middle;\n",
       "    }\n",
       "\n",
       "    .dataframe tbody tr th {\n",
       "        vertical-align: top;\n",
       "    }\n",
       "\n",
       "    .dataframe thead th {\n",
       "        text-align: right;\n",
       "    }\n",
       "</style>\n",
       "<table border=\"1\" class=\"dataframe\">\n",
       "  <thead>\n",
       "    <tr style=\"text-align: right;\">\n",
       "      <th>HTA_OMS</th>\n",
       "      <th>0</th>\n",
       "      <th>1</th>\n",
       "      <th>All</th>\n",
       "    </tr>\n",
       "    <tr>\n",
       "      <th>DM</th>\n",
       "      <th></th>\n",
       "      <th></th>\n",
       "      <th></th>\n",
       "    </tr>\n",
       "  </thead>\n",
       "  <tbody>\n",
       "    <tr>\n",
       "      <th>0</th>\n",
       "      <td>66.25</td>\n",
       "      <td>23.75</td>\n",
       "      <td>90.0</td>\n",
       "    </tr>\n",
       "    <tr>\n",
       "      <th>1</th>\n",
       "      <td>1.25</td>\n",
       "      <td>8.75</td>\n",
       "      <td>10.0</td>\n",
       "    </tr>\n",
       "    <tr>\n",
       "      <th>All</th>\n",
       "      <td>67.50</td>\n",
       "      <td>32.50</td>\n",
       "      <td>100.0</td>\n",
       "    </tr>\n",
       "  </tbody>\n",
       "</table>\n",
       "</div>"
      ],
      "text/plain": [
       "HTA_OMS      0      1    All\n",
       "DM                          \n",
       "0        66.25  23.75   90.0\n",
       "1         1.25   8.75   10.0\n",
       "All      67.50  32.50  100.0"
      ]
     },
     "execution_count": 57,
     "metadata": {},
     "output_type": "execute_result"
    }
   ],
   "source": [
    "pd.crosstab(datos['DM'],datos['HTA_OMS'], normalize=True, margins=True) * 100"
   ]
  },
  {
   "cell_type": "markdown",
   "metadata": {},
   "source": [
    "## Test de asociación $\\chi^2$\n"
   ]
  },
  {
   "cell_type": "markdown",
   "metadata": {},
   "source": [
    "El test chi-cuadrado nos permite determinar si existe independencia o no entre dos variable categóricas de mi conjunto de datos. Es decir, comprueba si estas variables están asociadas.\n",
    "\n",
    "El estadístico $\\chi^2$ se calcula con la siguiente fórmula, donde $f_e$\n",
    "y $f_o$ son las frecuencias esperadas y frecuencias observadas,\n",
    "respectivamente, $r$ es el número de filas de la tabla y $c$ el número\n",
    "de columnas.\n",
    "\n",
    "$$\n",
    "\\chi^2=\\sum{\\frac{(f_e-f_o)^2}{f_e} \\sim \\chi^2_{(r-1)(c-1)}}\n",
    "$$\n",
    "\n",
    "<hr>\n",
    "\n",
    "Dato: para la explicacion, mi veredicto para aceptar o rechazar la $H_0$ es la comparacion entre el p valor obtenido, y el nivel de signficancia con el que se comenzo a trabajar."
   ]
  },
  {
   "cell_type": "markdown",
   "metadata": {},
   "source": [
    "**Test: DM vs HTA_OMS**\n",
    "\n",
    "$H_0:$ no existe asociación entre la presencia de diabetes y la presencia de hipertensión arterial.\n",
    "\n",
    "$H_1:$ existe asociación entre la presencia de diabetes y la presencia de hipertensión arterial"
   ]
  },
  {
   "cell_type": "code",
   "execution_count": 58,
   "metadata": {},
   "outputs": [
    {
     "name": "stdout",
     "output_type": "stream",
     "text": [
      "Estadístico chi2 =  9.6296\n",
      "p-value =  0.0019\n"
     ]
    }
   ],
   "source": [
    "prueba_chi2 = chi2_contingency(pd.crosstab(datos['DM'],datos['HTA_OMS']))\n",
    "print(\"Estadístico chi2 = \", prueba_chi2[0].round(4))\n",
    "print(\"p-value = \", prueba_chi2[1].round(4))"
   ]
  },
  {
   "cell_type": "markdown",
   "metadata": {},
   "source": [
    "Se rechaza la hipótesis nula, por lo cual tenemos evidencia de que existe asociación entre la presencia de diabetes y la hipertensión arterial.\n"
   ]
  },
  {
   "cell_type": "markdown",
   "metadata": {},
   "source": [
    "**Test: DM vs TABACO**\n",
    "\n",
    "$H_0:$ no existe asociación entre la presencia de diabetes y el consumo de tabaco.\n",
    "\n",
    "$H_1:$ existe asociación entre la presencia de diabetes y el consumo de tabaco."
   ]
  },
  {
   "cell_type": "code",
   "execution_count": 59,
   "metadata": {},
   "outputs": [
    {
     "name": "stdout",
     "output_type": "stream",
     "text": [
      "Estadístico chi2 =  0.9117\n",
      "p-value =  0.3397\n"
     ]
    }
   ],
   "source": [
    "prueba_chi2 = chi2_contingency(pd.crosstab(datos['DM'],datos['TABACO']))\n",
    "print(\"Estadístico chi2 = \", prueba_chi2[0].round(4))\n",
    "print(\"p-value = \", prueba_chi2[1].round(4))"
   ]
  },
  {
   "cell_type": "markdown",
   "metadata": {},
   "source": [
    "No podemos rechazar la nula de que no existe asociación entre las variables. Porque mi $p$ < $\\alpha$"
   ]
  },
  {
   "cell_type": "markdown",
   "metadata": {},
   "source": [
    "**Test: DM vs SEDENT**\n",
    "\n",
    "$H_0:$ no existe asociación entre la presencia de diabetes y que la persona sea sedentaria.\n",
    "\n",
    "$H_1:$ existe asociación entre la presencia de diabetes y que la persona sea sedentaria."
   ]
  },
  {
   "cell_type": "code",
   "execution_count": 60,
   "metadata": {},
   "outputs": [
    {
     "name": "stdout",
     "output_type": "stream",
     "text": [
      "Estadístico chi2 =  1.6096\n",
      "p-value =  0.2046\n"
     ]
    }
   ],
   "source": [
    "prueba_chi2 = chi2_contingency(pd.crosstab(datos['DM'],datos['SEDENT']))\n",
    "print(\"Estadístico chi2 = \", prueba_chi2[0].round(4))\n",
    "print(\"p-value = \", prueba_chi2[1].round(4))"
   ]
  },
  {
   "cell_type": "markdown",
   "metadata": {},
   "source": [
    "No podemos rechazar la nula de que no existe asociación entre las variables. Porque mi $p$ < $\\alpha$"
   ]
  },
  {
   "cell_type": "markdown",
   "metadata": {},
   "source": [
    "**Test: DM vs OBCENT_ATP**\n",
    "\n",
    "$H_0:$ no existe asociación entre la presencia de diabetes y la presencia de obesidad central.\n",
    "\n",
    "$H_1:$ existe asociación entre la presencia de diabetes y la presencia de obesidad central."
   ]
  },
  {
   "cell_type": "code",
   "execution_count": 61,
   "metadata": {},
   "outputs": [
    {
     "name": "stdout",
     "output_type": "stream",
     "text": [
      "Estadístico chi2 =  2.7041\n",
      "p-value =  0.1001\n"
     ]
    }
   ],
   "source": [
    "prueba_chi2 = chi2_contingency(pd.crosstab(datos['DM'],datos['OBCENT_ATP']))\n",
    "print(\"Estadístico chi2 = \", prueba_chi2[0].round(4))\n",
    "print(\"p-value = \", prueba_chi2[1].round(4))"
   ]
  },
  {
   "cell_type": "markdown",
   "metadata": {},
   "source": [
    "No podemos rechazar la nula de que no existe asociación entre las variables. Porque mi $p$ < $\\alpha$"
   ]
  },
  {
   "cell_type": "markdown",
   "metadata": {},
   "source": [
    "## Modelos para inferencia"
   ]
  },
  {
   "cell_type": "markdown",
   "metadata": {},
   "source": [
    "Nuestro objetivo es modelar la probabilidad de tener diabetes para los individuos de la muestra.\n",
    "\n",
    "Como primer ajuste, incluimos como variable explicativa a la presión arterial sistólica (TAS) y vemos resultados."
   ]
  },
  {
   "cell_type": "code",
   "execution_count": 62,
   "metadata": {},
   "outputs": [
    {
     "name": "stdout",
     "output_type": "stream",
     "text": [
      "Optimization terminated successfully.\n",
      "         Current function value: 0.230497\n",
      "         Iterations 8\n",
      "                           Logit Regression Results                           \n",
      "==============================================================================\n",
      "Dep. Variable:                     DM   No. Observations:                   80\n",
      "Model:                          Logit   Df Residuals:                       78\n",
      "Method:                           MLE   Df Model:                            1\n",
      "Date:                Mon, 01 Jul 2024   Pseudo R-squ.:                  0.2910\n",
      "Time:                        16:14:51   Log-Likelihood:                -18.440\n",
      "converged:                       True   LL-Null:                       -26.007\n",
      "Covariance Type:            nonrobust   LLR p-value:                 0.0001002\n",
      "==============================================================================\n",
      "                 coef    std err          z      P>|z|      [0.025      0.975]\n",
      "------------------------------------------------------------------------------\n",
      "Intercept    -14.1996      4.163     -3.411      0.001     -22.358      -6.041\n",
      "TAS            0.0927      0.031      3.007      0.003       0.032       0.153\n",
      "==============================================================================\n"
     ]
    }
   ],
   "source": [
    "reg_log = smf.logit(formula='DM ~ TAS', data=datos).fit() #--> Se uso solo una variable independiente (Tas, que es la presion arterial)\n",
    "print(reg_log.summary())"
   ]
  },
  {
   "cell_type": "markdown",
   "metadata": {},
   "source": [
    "De la salida anterior debemos tener en cuenta que sólo podemos interpretar el signo del coeficiente asociado a la variable TAS, es decir su dirección positiva en este caso. El valor del coeficiente no es directamente interpretable como efecto marginal dado que el modelo estima una **función** (intermedia) de la probabilidad. Para llegar a obtener las probabilidades predichas, los valores ajustados requieren ser evaluados en la fdp logística. Esto podemos hacerlo automáticamente con la función predict() que nos calcula las probabilidades predichas.\n",
    "\n",
    "*Método: MLE hace referencia a Maximun likelihood estimation\n",
    "\n",
    "Vemos gráficamente el ajuste del modelo, ya que estamos trabajando con una sola variable explicativa:"
   ]
  },
  {
   "cell_type": "code",
   "execution_count": 63,
   "metadata": {},
   "outputs": [
    {
     "data": {
      "image/png": "[encoded data removed]",
      "text/plain": [
       "<Figure size 640x480 with 1 Axes>"
      ]
     },
     "metadata": {},
     "output_type": "display_data"
    }
   ],
   "source": [
    "\"\"\" Como es posible esta prediccion? \n",
    "\n",
    "Explicación de las Predicciones\n",
    "reg_log.predict(datos):\n",
    "\n",
    "- Esta línea hace predicciones para todas las filas del DataFrame datos utilizando el modelo ajustado reg_log.\n",
    "\n",
    "- Aunque el DataFrame datos pueda contener muchas variables, el modelo solo usa las variables especificadas en la fórmula (DM y TAS) para hacer las predicciones.\n",
    "\n",
    "- Específicamente, reg_log.predict(datos) toma los valores de TAS en datos y calcula la probabilidad predicha de DM para cada fila.\n",
    "\n",
    "\"\"\"\n",
    "\n",
    "datos.sort_values(by='TAS', inplace=True)\n",
    "datos['predichos'] = reg_log.predict(datos)\n",
    "\n",
    "plt.scatter(datos['TAS'], datos['DM'])\n",
    "plt.plot(datos['TAS'], datos['predichos'])\n",
    "plt.xlabel('Presión arterial sistólica, en mmHg')\n",
    "plt.ylabel('Prob. predicha de presencia de diabetes')\n",
    "plt.show()"
   ]
  },
  {
   "cell_type": "markdown",
   "metadata": {},
   "source": [
    "**¿Para que sirven los calculos que de ahora en adelante se muestran?**"
   ]
  },
  {
   "cell_type": "markdown",
   "metadata": {},
   "source": [
    "Sirven para evaluar el modelo en sus distintas predicciones, ya que la interpretacion de los coeficientes no son utiles mas haya de su signo. Los calculos siguientes muestran casos mas puntuales y sobre todo REALES que pueden pasar los datos."
   ]
  }
 ],
 "metadata": {
  "kernelspec": {
   "display_name": "env",
   "language": "python",
   "name": "python3"
  },
  "language_info": {
   "codemirror_mode": {
    "name": "ipython",
    "version": 3
   },
   "file_extension": ".py",
   "mimetype": "text/x-python",
   "name": "python",
   "nbconvert_exporter": "python",
   "pygments_lexer": "ipython3",
   "version": "3.12.3"
  }
 },
 "nbformat": 4,
 "nbformat_minor": 2
}
